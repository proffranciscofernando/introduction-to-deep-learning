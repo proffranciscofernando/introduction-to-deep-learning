{
  "nbformat": 4,
  "nbformat_minor": 0,
  "metadata": {
    "colab": {
      "provenance": [],
      "authorship_tag": "ABX9TyP6DdvdByY1pNxtCF/VabBR",
      "include_colab_link": true
    },
    "kernelspec": {
      "name": "python3",
      "display_name": "Python 3"
    },
    "language_info": {
      "name": "python"
    }
  },
  "cells": [
    {
      "cell_type": "markdown",
      "metadata": {
        "id": "view-in-github",
        "colab_type": "text"
      },
      "source": [
        "<a href=\"https://colab.research.google.com/github/proffranciscofernando/introduction-to-deep-learning/blob/main/App-streamlit.ipynb\" target=\"_parent\"><img src=\"https://colab.research.google.com/assets/colab-badge.svg\" alt=\"Open In Colab\"/></a>"
      ]
    },
    {
      "cell_type": "code",
      "source": [
        "!pip install streamlit pyngrok"
      ],
      "metadata": {
        "collapsed": true,
        "id": "90LBjZTFD_pb"
      },
      "execution_count": null,
      "outputs": []
    },
    {
      "cell_type": "code",
      "source": [
        "%%writefile trig_calculator.py\n",
        "import streamlit as st\n",
        "import numpy as np\n",
        "import matplotlib.pyplot as plt\n",
        "\n",
        "# Título do app\n",
        "st.title(\"Calculadora de Seno e Cosseno 📈\")\n",
        "\n",
        "# Entrada do usuário\n",
        "angle = st.slider(\"Escolha um ângulo (graus)\", 0, 360, 45)\n",
        "\n",
        "# Convertendo para radianos\n",
        "angle_rad = np.radians(angle)\n",
        "\n",
        "# Calculando seno e cosseno\n",
        "sin_value = np.sin(angle_rad)\n",
        "cos_value = np.cos(angle_rad)\n",
        "\n",
        "# Exibindo os resultados\n",
        "st.write(f\"📌 Seno de {angle}°: **{sin_value:.4f}**\")\n",
        "st.write(f\"📌 Cosseno de {angle}°: **{cos_value:.4f}**\")\n",
        "\n",
        "# Gerando o gráfico\n",
        "x = np.linspace(0, 2 * np.pi, 100)\n",
        "y_sin = np.sin(x)\n",
        "y_cos = np.cos(x)\n",
        "\n",
        "fig, ax = plt.subplots()\n",
        "ax.plot(x, y_sin, label=\"Seno\", linestyle=\"--\", color=\"b\")\n",
        "ax.plot(x, y_cos, label=\"Cosseno\", linestyle=\"-\", color=\"r\")\n",
        "ax.scatter(angle_rad, sin_value, color=\"blue\", s=100, label=\"Seno escolhido\")\n",
        "ax.scatter(angle_rad, cos_value, color=\"red\", s=100, label=\"Cosseno escolhido\")\n",
        "\n",
        "ax.axhline(0, color=\"black\", linewidth=1)\n",
        "ax.axvline(angle_rad, color=\"gray\", linestyle=\"--\")\n",
        "ax.legend()\n",
        "ax.set_xticks(np.linspace(0, 2 * np.pi, 5))\n",
        "ax.set_xticklabels([\"0\", \"π/2\", \"π\", \"3π/2\", \"2π\"])\n",
        "ax.set_xlabel(\"Ângulo (radianos)\")\n",
        "ax.set_ylabel(\"Valor\")\n",
        "ax.set_title(\"Funções Trigonométricas\")\n",
        "\n",
        "# Exibir o gráfico no Streamlit\n",
        "st.pyplot(fig)"
      ],
      "metadata": {
        "id": "I0EBYS3y-1ML"
      },
      "execution_count": null,
      "outputs": []
    },
    {
      "cell_type": "code",
      "source": [
        "# Edite o código com seu token do ngrok\n",
        "#!ngrok config add-authtoken SEU_TOKEN_AQUI"
      ],
      "metadata": {
        "id": "ncXMsFFwAGQ8"
      },
      "execution_count": null,
      "outputs": []
    },
    {
      "cell_type": "code",
      "source": [
        "from google.colab import drive\n",
        "drive.mount('/content/drive')"
      ],
      "metadata": {
        "id": "nXaz0seQIpM0"
      },
      "execution_count": null,
      "outputs": []
    },
    {
      "cell_type": "code",
      "source": [
        "# Caminho do arquivo no Google Drive\n",
        "token_path = \"/content/drive/My Drive/Meus tokens/ngrok_token.txt\"\n",
        "\n",
        "# Ler o authtoken do arquivo\n",
        "with open(token_path, \"r\") as f:\n",
        "    ngrok_token = f.read().strip()\n",
        "\n",
        "# Definir como variável de ambiente\n",
        "import os\n",
        "os.environ[\"NGROK_AUTH_TOKEN\"] = ngrok_token"
      ],
      "metadata": {
        "id": "1B9bPp0YJCBV"
      },
      "execution_count": null,
      "outputs": []
    },
    {
      "cell_type": "code",
      "source": [
        "from pyngrok import ngrok\n",
        "import subprocess\n",
        "\n",
        "# Iniciar Streamlit em segundo plano\n",
        "process = subprocess.Popen([\"streamlit\", \"run\", \"trig_calculator.py\", \"--server.port\", \"8501\"])\n",
        "\n",
        "# Criar um túnel público com ngrok\n",
        "url = ngrok.connect(8501).public_url\n",
        "print(f\"Seu app está rodando em: {url}\")"
      ],
      "metadata": {
        "id": "Kjg11mNI_Z2E"
      },
      "execution_count": null,
      "outputs": []
    },
    {
      "cell_type": "code",
      "source": [
        "!pkill -f ngrok"
      ],
      "metadata": {
        "id": "wb_xsbpKCL6k"
      },
      "execution_count": null,
      "outputs": []
    }
  ]
}