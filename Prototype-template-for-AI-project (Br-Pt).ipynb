{
  "nbformat": 4,
  "nbformat_minor": 0,
  "metadata": {
    "colab": {
      "provenance": [],
      "authorship_tag": "ABX9TyNG6x4lCk+6Aq3kTHBrEkNP",
      "include_colab_link": true
    },
    "kernelspec": {
      "name": "python3",
      "display_name": "Python 3"
    },
    "language_info": {
      "name": "python"
    }
  },
  "cells": [
    {
      "cell_type": "markdown",
      "metadata": {
        "id": "view-in-github",
        "colab_type": "text"
      },
      "source": [
        "<a href=\"https://colab.research.google.com/github/proffranciscofernando/introduction-to-deep-learning/blob/main/Prototype-template-for-AI-project%20(Br-Pt).ipynb\" target=\"_parent\"><img src=\"https://colab.research.google.com/assets/colab-badge.svg\" alt=\"Open In Colab\"/></a>"
      ]
    },
    {
      "cell_type": "code",
      "source": [
        "# Instalação da biblioteca groq\n",
        "!pip install -q -U groq\n",
        "\n",
        "# Definição da chave da API\n",
        "GROQ_API_KEY = 'SUA_CHAVE_AQUI'\n",
        "\n",
        "from groq import Groq"
      ],
      "metadata": {
        "id": "DoliexnywHMN"
      },
      "execution_count": null,
      "outputs": []
    },
    {
      "cell_type": "markdown",
      "source": [
        "# Teste com Modelo Llama 3.3-70b Versatile"
      ],
      "metadata": {
        "id": "jwpNiw2xZcDq"
      }
    },
    {
      "cell_type": "code",
      "source": [
        "# Criação do cliente\n",
        "client = Groq(\n",
        "    api_key=GROQ_API_KEY,\n",
        ")\n",
        "\n",
        "# Criação da solicitação de completions\n",
        "chat_completion = client.chat.completions.create(\n",
        "    messages=[\n",
        "        {\n",
        "            \"role\": \"user\",\n",
        "            \"content\": \"Qual é o sentido da vida? Responda em português do Brasil\",\n",
        "        },\n",
        "    ],\n",
        "    temperature=1.0,\n",
        "    max_completion_tokens=1024,\n",
        "    top_p=1,\n",
        "    model=\"llama-3.3-70b-versatile\",\n",
        ")\n",
        "\n",
        "# Impressão do resultado\n",
        "print(chat_completion.choices[0].message.content)"
      ],
      "metadata": {
        "id": "4Kgu_XV3wE5s"
      },
      "execution_count": null,
      "outputs": []
    },
    {
      "cell_type": "markdown",
      "source": [
        "# Teste com Modelo DeepSeek R1 Distill Qwen 32b"
      ],
      "metadata": {
        "id": "4NfrkmqIaJf3"
      }
    },
    {
      "cell_type": "code",
      "source": [
        "# Criação do cliente\n",
        "client = Groq(\n",
        "    api_key=GROQ_API_KEY,\n",
        ")\n",
        "\n",
        "# Criação da solicitação de completions\n",
        "chat_completion = client.chat.completions.create(\n",
        "    messages=[\n",
        "        {\n",
        "            \"role\": \"user\",\n",
        "            \"content\": \"Qual é o sentido da vida? Responda em português do Brasil\",\n",
        "        },\n",
        "    ],\n",
        "    temperature=1,\n",
        "    max_completion_tokens=1024,\n",
        "    top_p=1,\n",
        "    model=\"deepseek-r1-distill-qwen-32b\",\n",
        ")\n",
        "\n",
        "# Impressão do resultado\n",
        "print(chat_completion.choices[0].message.content)"
      ],
      "metadata": {
        "id": "_Tj-U2tnaHYL"
      },
      "execution_count": null,
      "outputs": []
    },
    {
      "cell_type": "markdown",
      "source": [
        "# Testar mais modelos..."
      ],
      "metadata": {
        "id": "bRew998kcsE_"
      }
    }
  ]
}